{
 "cells": [
  {
   "cell_type": "code",
   "execution_count": 1,
   "metadata": {
    "collapsed": true,
    "deletable": true,
    "editable": true
   },
   "outputs": [],
   "source": [
    "import xarray as xr"
   ]
  },
  {
   "cell_type": "code",
   "execution_count": 4,
   "metadata": {
    "collapsed": false,
    "deletable": true,
    "editable": true
   },
   "outputs": [],
   "source": [
    "from distributed import Client\n",
    "c = Client()"
   ]
  },
  {
   "cell_type": "code",
   "execution_count": 5,
   "metadata": {
    "collapsed": false,
    "deletable": true,
    "editable": true
   },
   "outputs": [],
   "source": [
    "data = xr.open_mfdataset('/Users/robin/ownCloud/PM25/*.nc', chunks={'time':2})['data']"
   ]
  },
  {
   "cell_type": "code",
   "execution_count": 6,
   "metadata": {
    "collapsed": false,
    "deletable": true,
    "editable": true
   },
   "outputs": [],
   "source": [
    "monthly = data.groupby('time.month').mean(dim='time')"
   ]
  },
  {
   "cell_type": "code",
   "execution_count": 7,
   "metadata": {
    "collapsed": false,
    "deletable": true,
    "editable": true
   },
   "outputs": [
    {
     "name": "stderr",
     "output_type": "stream",
     "text": [
      "distributed.batched - INFO - Batched Stream Closed\n",
      "distributed.batched - INFO - Batched Stream Closed\n",
      "distributed.batched - INFO - Batched Stream Closed\n",
      "distributed.batched - INFO - Batched Stream Closed\n",
      "distributed.batched - INFO - Batched Stream Closed\n",
      "distributed.batched - INFO - Batched Stream Closed\n",
      "distributed.batched - INFO - Batched Stream Closed\n",
      "distributed.batched - INFO - Batched Stream Closed\n",
      "distributed.batched - INFO - Batched Stream Closed\n",
      "distributed.batched - INFO - Batched Stream Closed\n",
      "distributed.batched - INFO - Batched Stream Closed\n",
      "distributed.batched - INFO - Batched Stream Closed\n",
      "distributed.batched - INFO - Batched Stream Closed\n",
      "distributed.batched - INFO - Batched Stream Closed\n",
      "distributed.batched - INFO - Batched Stream Closed\n",
      "distributed.batched - INFO - Batched Stream Closed\n",
      "distributed.batched - INFO - Batched Stream Closed\n",
      "distributed.batched - INFO - Batched Stream Closed\n"
     ]
    }
   ],
   "source": [
    "result = monthly.load()"
   ]
  }
 ],
 "metadata": {
  "kernelspec": {
   "display_name": "Python 2",
   "language": "python",
   "name": "python2"
  },
  "language_info": {
   "codemirror_mode": {
    "name": "ipython",
    "version": 2
   },
   "file_extension": ".py",
   "mimetype": "text/x-python",
   "name": "python",
   "nbconvert_exporter": "python",
   "pygments_lexer": "ipython2",
   "version": "2.7.12"
  }
 },
 "nbformat": 4,
 "nbformat_minor": 0
}

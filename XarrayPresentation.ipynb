{
 "cells": [
  {
   "cell_type": "markdown",
   "metadata": {
    "deletable": true,
    "editable": true,
    "nbpresent": {
     "id": "082be62c-69e8-426e-b147-00c7b3a651db"
    },
    "slideshow": {
     "slide_type": "slide"
    }
   },
   "source": [
    "# Raster processing with XArray"
   ]
  },
  {
   "cell_type": "markdown",
   "metadata": {
    "deletable": true,
    "editable": true,
    "nbpresent": {
     "id": "b6d7213a-e618-4e90-a486-6bab4fe1bfc5"
    },
    "slideshow": {
     "slide_type": "-"
    }
   },
   "source": [
    "http://xarray.pydata.org"
   ]
  },
  {
   "cell_type": "markdown",
   "metadata": {
    "deletable": true,
    "editable": true,
    "slideshow": {
     "slide_type": "-"
    }
   },
   "source": [
    "Robin Wilson &nbsp; &nbsp; &nbsp; @sciremotesense &nbsp; &nbsp; &nbsp; robin@rtwilson.com"
   ]
  },
  {
   "cell_type": "markdown",
   "metadata": {
    "deletable": true,
    "editable": true,
    "slideshow": {
     "slide_type": "-"
    }
   },
   "source": [
    "https://github.com/robintw/RastersRevealedTalk"
   ]
  },
  {
   "cell_type": "markdown",
   "metadata": {
    "deletable": true,
    "editable": true,
    "slideshow": {
     "slide_type": "slide"
    }
   },
   "source": [
    "## Problem"
   ]
  },
  {
   "cell_type": "markdown",
   "metadata": {
    "deletable": true,
    "editable": true,
    "slideshow": {
     "slide_type": "fragment"
    }
   },
   "source": [
    "Processing large time series of raster data is **difficult**"
   ]
  },
  {
   "cell_type": "markdown",
   "metadata": {
    "deletable": true,
    "editable": true,
    "slideshow": {
     "slide_type": "fragment"
    }
   },
   "source": [
    "**Example**:\n",
    "\n",
    "We have many decades of daily raster data, and want to get:"
   ]
  },
  {
   "cell_type": "markdown",
   "metadata": {
    "deletable": true,
    "editable": true,
    "slideshow": {
     "slide_type": "fragment"
    }
   },
   "source": [
    "- Seasonal means and standard deviations"
   ]
  },
  {
   "cell_type": "markdown",
   "metadata": {
    "deletable": true,
    "editable": true,
    "slideshow": {
     "slide_type": "fragment"
    }
   },
   "source": [
    "- Long time-series across specific points"
   ]
  },
  {
   "cell_type": "markdown",
   "metadata": {
    "deletable": true,
    "editable": true,
    "slideshow": {
     "slide_type": "fragment"
    }
   },
   "source": [
    "- Individual images at specific times"
   ]
  },
  {
   "cell_type": "markdown",
   "metadata": {
    "deletable": true,
    "editable": true,
    "slideshow": {
     "slide_type": "slide"
    }
   },
   "source": [
    "# HOW?"
   ]
  },
  {
   "cell_type": "markdown",
   "metadata": {
    "deletable": true,
    "editable": true,
    "slideshow": {
     "slide_type": "slide"
    }
   },
   "source": [
    "## `XArray`\n",
    "\n",
    "The power of `pandas` for multidimension arrays"
   ]
  },
  {
   "cell_type": "markdown",
   "metadata": {
    "deletable": true,
    "editable": true,
    "slideshow": {
     "slide_type": "fragment"
    }
   },
   "source": [
    "- Labelled"
   ]
  },
  {
   "cell_type": "markdown",
   "metadata": {
    "deletable": true,
    "editable": true,
    "slideshow": {
     "slide_type": "fragment"
    }
   },
   "source": [
    "- Multidimensional"
   ]
  },
  {
   "cell_type": "markdown",
   "metadata": {
    "deletable": true,
    "editable": true,
    "slideshow": {
     "slide_type": "fragment"
    }
   },
   "source": [
    "- Efficient"
   ]
  },
  {
   "cell_type": "markdown",
   "metadata": {
    "deletable": true,
    "editable": true,
    "slideshow": {
     "slide_type": "fragment"
    }
   },
   "source": [
    "- Easy to use!"
   ]
  },
  {
   "cell_type": "markdown",
   "metadata": {
    "deletable": true,
    "editable": true,
    "slideshow": {
     "slide_type": "slide"
    }
   },
   "source": [
    "## Related tools / Prerequisites?\n",
    "\n",
    "- `python` (obviously!)\n",
    "- `numpy`\n",
    "- `pandas`\n",
    "- `matplotlib`\n",
    "- `GDAL`\n",
    "- `rasterio`"
   ]
  },
  {
   "cell_type": "markdown",
   "metadata": {
    "deletable": true,
    "editable": true,
    "slideshow": {
     "slide_type": "slide"
    }
   },
   "source": [
    "## Previous experience?"
   ]
  },
  {
   "cell_type": "markdown",
   "metadata": {
    "deletable": true,
    "editable": true,
    "slideshow": {
     "slide_type": "fragment"
    }
   },
   "source": [
    "**Q:** How many people are experienced with `numpy`?"
   ]
  },
  {
   "cell_type": "markdown",
   "metadata": {
    "deletable": true,
    "editable": true,
    "slideshow": {
     "slide_type": "fragment"
    }
   },
   "source": [
    "**Q:** ...with `pandas`?"
   ]
  },
  {
   "cell_type": "markdown",
   "metadata": {
    "deletable": true,
    "editable": true,
    "slideshow": {
     "slide_type": "fragment"
    }
   },
   "source": [
    "**Q:** ...with `GDAL`?"
   ]
  },
  {
   "cell_type": "code",
   "execution_count": 1,
   "metadata": {
    "collapsed": true,
    "deletable": true,
    "editable": true,
    "nbpresent": {
     "id": "2d06e264-15dd-48ef-8044-818228252d6f"
    },
    "slideshow": {
     "slide_type": "skip"
    }
   },
   "outputs": [],
   "source": [
    "import datetime\n",
    "\n",
    "%matplotlib inline\n",
    "import numpy as np\n",
    "import matplotlib.pyplot as plt\n",
    "import pandas as pd"
   ]
  },
  {
   "cell_type": "code",
   "execution_count": 2,
   "metadata": {
    "collapsed": true,
    "deletable": true,
    "editable": true,
    "slideshow": {
     "slide_type": "slide"
    }
   },
   "outputs": [],
   "source": [
    "import xarray as xr"
   ]
  },
  {
   "cell_type": "markdown",
   "metadata": {
    "deletable": true,
    "editable": true,
    "slideshow": {
     "slide_type": "slide"
    }
   },
   "source": [
    "## Example"
   ]
  },
  {
   "cell_type": "code",
   "execution_count": 3,
   "metadata": {
    "collapsed": true,
    "deletable": true,
    "editable": true,
    "slideshow": {
     "slide_type": "-"
    }
   },
   "outputs": [],
   "source": [
    "PM25 = xr.open_dataarray('/Users/robin/code/MAIACProcessing/All2014.nc')"
   ]
  },
  {
   "cell_type": "code",
   "execution_count": 4,
   "metadata": {
    "collapsed": false,
    "deletable": true,
    "editable": true,
    "slideshow": {
     "slide_type": "fragment"
    }
   },
   "outputs": [
    {
     "data": {
      "text/plain": [
       "(181, 1162, 1240)"
      ]
     },
     "execution_count": 4,
     "metadata": {},
     "output_type": "execute_result"
    }
   ],
   "source": [
    "PM25.shape"
   ]
  },
  {
   "cell_type": "code",
   "execution_count": 5,
   "metadata": {
    "collapsed": false,
    "deletable": true,
    "editable": true,
    "slideshow": {
     "slide_type": "fragment"
    }
   },
   "outputs": [
    {
     "data": {
      "text/plain": [
       "(u'time', u'y', u'x')"
      ]
     },
     "execution_count": 5,
     "metadata": {},
     "output_type": "execute_result"
    }
   ],
   "source": [
    "PM25.dims"
   ]
  },
  {
   "cell_type": "code",
   "execution_count": 6,
   "metadata": {
    "collapsed": false,
    "deletable": true,
    "editable": true,
    "slideshow": {
     "slide_type": "slide"
    }
   },
   "outputs": [],
   "source": [
    "seasonal = PM25.groupby('time.season').mean(dim='time')"
   ]
  },
  {
   "cell_type": "code",
   "execution_count": 7,
   "metadata": {
    "collapsed": false,
    "deletable": true,
    "editable": true,
    "slideshow": {
     "slide_type": "fragment"
    }
   },
   "outputs": [
    {
     "data": {
      "text/plain": [
       "<xarray.plot.facetgrid.FacetGrid at 0x10d7e8910>"
      ]
     },
     "execution_count": 7,
     "metadata": {},
     "output_type": "execute_result"
    },
    {
     "data": {
      "image/png": "[encoded data removed]",
      "text/plain": [
       "<matplotlib.figure.Figure at 0x10d7e88d0>"
      ]
     },
     "metadata": {},
     "output_type": "display_data"
    }
   ],
   "source": [
    "seasonal.plot.imshow(col='season', robust=True)"
   ]
  },
  {
   "cell_type": "code",
   "execution_count": 8,
   "metadata": {
    "collapsed": false,
    "deletable": true,
    "editable": true,
    "slideshow": {
     "slide_type": "slide"
    }
   },
   "outputs": [],
   "source": [
    "time_series = PM25.isel(x=1000, y=1100).to_pandas().dropna()"
   ]
  },
  {
   "cell_type": "code",
   "execution_count": 9,
   "metadata": {
    "collapsed": false,
    "deletable": true,
    "editable": true,
    "slideshow": {
     "slide_type": "fragment"
    }
   },
   "outputs": [
    {
     "data": {
      "text/plain": [
       "time\n",
       "2014-01-07     62.0\n",
       "2014-01-17    121.0\n",
       "2014-01-25    127.0\n",
       "2014-02-10    135.0\n",
       "2014-02-11    186.0\n",
       "2014-02-18    237.0\n",
       "2014-02-25    352.0\n",
       "2014-02-26    293.0\n",
       "2014-02-27    260.0\n",
       "2014-03-01    165.0\n",
       "2014-03-08    221.0\n",
       "2014-03-09    221.0\n",
       "2014-03-10    291.0\n",
       "2014-03-13    552.0\n",
       "2014-03-16    156.0\n",
       "2014-03-21    159.0\n",
       "2014-03-22    160.0\n",
       "2014-03-23    163.0\n",
       "2014-03-25    261.0\n",
       "2014-03-30    362.0\n",
       "2014-04-04     19.0\n",
       "2014-04-09     19.0\n",
       "2014-04-10     19.0\n",
       "2014-04-11     19.0\n",
       "2014-04-13     33.0\n",
       "2014-04-14     19.0\n",
       "2014-04-16    159.0\n",
       "2014-04-18     53.0\n",
       "2014-04-19    118.0\n",
       "2014-04-24    194.0\n",
       "2014-04-25    250.0\n",
       "2014-05-10    154.0\n",
       "2014-05-13    181.0\n",
       "2014-05-14     19.0\n",
       "2014-05-15    117.0\n",
       "2014-05-17    239.0\n",
       "2014-05-22    188.0\n",
       "2014-06-02    189.0\n",
       "2014-06-05     71.0\n",
       "2014-06-07    107.0\n",
       "2014-06-13    115.0\n",
       "2014-06-14    324.0\n",
       "2014-06-15     64.0\n",
       "2014-06-18    132.0\n",
       "2014-06-20    101.0\n",
       "2014-06-21    115.0\n",
       "2014-06-23    200.0\n",
       "2014-06-27    162.0\n",
       "dtype: float32"
      ]
     },
     "execution_count": 9,
     "metadata": {},
     "output_type": "execute_result"
    }
   ],
   "source": [
    "time_series"
   ]
  },
  {
   "cell_type": "code",
   "execution_count": 10,
   "metadata": {
    "collapsed": false,
    "deletable": true,
    "editable": true,
    "slideshow": {
     "slide_type": "slide"
    }
   },
   "outputs": [],
   "source": [
    "one_day = PM25.sel(time='2014-02-20')"
   ]
  },
  {
   "cell_type": "code",
   "execution_count": 11,
   "metadata": {
    "collapsed": false,
    "deletable": true,
    "editable": true,
    "slideshow": {
     "slide_type": "fragment"
    }
   },
   "outputs": [
    {
     "data": {
      "text/plain": [
       "<matplotlib.collections.QuadMesh at 0x11a8b1c90>"
      ]
     },
     "execution_count": 11,
     "metadata": {},
     "output_type": "execute_result"
    },
    {
     "data": {
      "image/png": "[encoded data removed]",
      "text/plain": [
       "<matplotlib.figure.Figure at 0x118878510>"
      ]
     },
     "metadata": {},
     "output_type": "display_data"
    }
   ],
   "source": [
    "one_day.plot(robust=True)"
   ]
  },
  {
   "cell_type": "markdown",
   "metadata": {
    "deletable": true,
    "editable": true,
    "slideshow": {
     "slide_type": "slide"
    }
   },
   "source": [
    "## Summary"
   ]
  },
  {
   "cell_type": "code",
   "execution_count": 12,
   "metadata": {
    "collapsed": true,
    "deletable": true,
    "editable": true
   },
   "outputs": [],
   "source": [
    "seasonal = PM25.groupby('time.season').mean(dim='time')"
   ]
  },
  {
   "cell_type": "code",
   "execution_count": 13,
   "metadata": {
    "collapsed": true,
    "deletable": true,
    "editable": true
   },
   "outputs": [],
   "source": [
    "time_series = PM25.isel(x=1000, y=1100).to_pandas().dropna()"
   ]
  },
  {
   "cell_type": "code",
   "execution_count": 14,
   "metadata": {
    "collapsed": true,
    "deletable": true,
    "editable": true
   },
   "outputs": [],
   "source": [
    "one_day = PM25.sel(time='2014-02-20')"
   ]
  },
  {
   "cell_type": "markdown",
   "metadata": {
    "deletable": true,
    "editable": true,
    "slideshow": {
     "slide_type": "slide"
    }
   },
   "source": [
    "## Plan"
   ]
  },
  {
   "cell_type": "markdown",
   "metadata": {
    "deletable": true,
    "editable": true,
    "slideshow": {
     "slide_type": "fragment"
    }
   },
   "source": [
    "- Introduction to XArray"
   ]
  },
  {
   "cell_type": "markdown",
   "metadata": {
    "deletable": true,
    "editable": true,
    "slideshow": {
     "slide_type": "fragment"
    }
   },
   "source": [
    "- Efficient processing with `dask` and `dask.distributed`"
   ]
  },
  {
   "cell_type": "markdown",
   "metadata": {
    "deletable": true,
    "editable": true,
    "slideshow": {
     "slide_type": "fragment"
    }
   },
   "source": [
    "- Getting raster data into and out of XArray"
   ]
  },
  {
   "cell_type": "markdown",
   "metadata": {
    "deletable": true,
    "editable": true,
    "slideshow": {
     "slide_type": "fragment"
    }
   },
   "source": [
    "- Geographic processing"
   ]
  },
  {
   "cell_type": "markdown",
   "metadata": {
    "deletable": true,
    "editable": true,
    "slideshow": {
     "slide_type": "fragment"
    }
   },
   "source": [
    "- Where next...?"
   ]
  },
  {
   "cell_type": "markdown",
   "metadata": {
    "deletable": true,
    "editable": true,
    "slideshow": {
     "slide_type": "slide"
    }
   },
   "source": [
    "## Introduction to XArray"
   ]
  },
  {
   "cell_type": "markdown",
   "metadata": {
    "deletable": true,
    "editable": true,
    "slideshow": {
     "slide_type": "fragment"
    }
   },
   "source": [
    "`xarray.DataArray` is a fancy, labelled version of a `numpy.ndarray`"
   ]
  },
  {
   "cell_type": "markdown",
   "metadata": {
    "deletable": true,
    "editable": true,
    "slideshow": {
     "slide_type": "fragment"
    }
   },
   "source": [
    "`xarray.Dataset` is a collection of multiple `DataArray`s which share dimensions"
   ]
  },
  {
   "cell_type": "code",
   "execution_count": 15,
   "metadata": {
    "collapsed": true,
    "deletable": true,
    "editable": true,
    "nbpresent": {
     "id": "2abde255-e727-4c4f-8c7c-8a729fb11e54"
    },
    "slideshow": {
     "slide_type": "slide"
    }
   },
   "outputs": [],
   "source": [
    "arr = np.random.rand(3, 4, 2)"
   ]
  },
  {
   "cell_type": "code",
   "execution_count": 16,
   "metadata": {
    "collapsed": false,
    "deletable": true,
    "editable": true,
    "slideshow": {
     "slide_type": "fragment"
    }
   },
   "outputs": [
    {
     "data": {
      "text/plain": [
       "<xarray.DataArray (dim_0: 3, dim_1: 4, dim_2: 2)>\n",
       "array([[[ 0.291147,  0.311481],\n",
       "        [ 0.242399,  0.50576 ],\n",
       "        [ 0.0414  ,  0.70285 ],\n",
       "        [ 0.970111,  0.366626]],\n",
       "\n",
       "       [[ 0.673288,  0.692703],\n",
       "        [ 0.711139,  0.292571],\n",
       "        [ 0.767792,  0.30895 ],\n",
       "        [ 0.747633,  0.903716]],\n",
       "\n",
       "       [[ 0.342803,  0.00336 ],\n",
       "        [ 0.755828,  0.851831],\n",
       "        [ 0.286764,  0.02013 ],\n",
       "        [ 0.273488,  0.938408]]])\n",
       "Dimensions without coordinates: dim_0, dim_1, dim_2"
      ]
     },
     "execution_count": 16,
     "metadata": {},
     "output_type": "execute_result"
    }
   ],
   "source": [
    "xr.DataArray(arr)"
   ]
  },
  {
   "cell_type": "code",
   "execution_count": 17,
   "metadata": {
    "collapsed": false,
    "deletable": true,
    "editable": true,
    "slideshow": {
     "slide_type": "slide"
    }
   },
   "outputs": [
    {
     "data": {
      "text/plain": [
       "<xarray.DataArray (x: 3, y: 4, time: 2)>\n",
       "array([[[ 0.291147,  0.311481],\n",
       "        [ 0.242399,  0.50576 ],\n",
       "        [ 0.0414  ,  0.70285 ],\n",
       "        [ 0.970111,  0.366626]],\n",
       "\n",
       "       [[ 0.673288,  0.692703],\n",
       "        [ 0.711139,  0.292571],\n",
       "        [ 0.767792,  0.30895 ],\n",
       "        [ 0.747633,  0.903716]],\n",
       "\n",
       "       [[ 0.342803,  0.00336 ],\n",
       "        [ 0.755828,  0.851831],\n",
       "        [ 0.286764,  0.02013 ],\n",
       "        [ 0.273488,  0.938408]]])\n",
       "Dimensions without coordinates: x, y, time"
      ]
     },
     "execution_count": 17,
     "metadata": {},
     "output_type": "execute_result"
    }
   ],
   "source": [
    "xr.DataArray(arr, dims=('x', 'y', 'time'))"
   ]
  },
  {
   "cell_type": "code",
   "execution_count": 18,
   "metadata": {
    "collapsed": false,
    "deletable": true,
    "editable": true,
    "slideshow": {
     "slide_type": "slide"
    }
   },
   "outputs": [],
   "source": [
    "da = xr.DataArray(arr,\n",
    "                  dims=('x', 'y', 'time'),\n",
    "                  coords={'x': [10, 20, 30],\n",
    "                          'y': [0.3, 0.7, 1.3, 1.5],\n",
    "                          'time': [datetime.datetime(2016, 3, 5),\n",
    "                                   datetime.datetime(2016, 4, 7)]})"
   ]
  },
  {
   "cell_type": "code",
   "execution_count": 19,
   "metadata": {
    "collapsed": false,
    "deletable": true,
    "editable": true,
    "slideshow": {
     "slide_type": "slide"
    }
   },
   "outputs": [
    {
     "data": {
      "text/plain": [
       "<xarray.DataArray (x: 3, y: 4, time: 2)>\n",
       "array([[[ 0.291147,  0.311481],\n",
       "        [ 0.242399,  0.50576 ],\n",
       "        [ 0.0414  ,  0.70285 ],\n",
       "        [ 0.970111,  0.366626]],\n",
       "\n",
       "       [[ 0.673288,  0.692703],\n",
       "        [ 0.711139,  0.292571],\n",
       "        [ 0.767792,  0.30895 ],\n",
       "        [ 0.747633,  0.903716]],\n",
       "\n",
       "       [[ 0.342803,  0.00336 ],\n",
       "        [ 0.755828,  0.851831],\n",
       "        [ 0.286764,  0.02013 ],\n",
       "        [ 0.273488,  0.938408]]])\n",
       "Coordinates:\n",
       "  * y        (y) float64 0.3 0.7 1.3 1.5\n",
       "  * x        (x) int64 10 20 30\n",
       "  * time     (time) datetime64[ns] 2016-03-05 2016-04-07"
      ]
     },
     "execution_count": 19,
     "metadata": {},
     "output_type": "execute_result"
    }
   ],
   "source": [
    "da"
   ]
  },
  {
   "cell_type": "code",
   "execution_count": 20,
   "metadata": {
    "collapsed": false,
    "deletable": true,
    "editable": true,
    "slideshow": {
     "slide_type": "slide"
    }
   },
   "outputs": [
    {
     "data": {
      "text/plain": [
       "<xarray.DataArray (x: 3, y: 4)>\n",
       "array([[ 0.291147,  0.242399,  0.0414  ,  0.970111],\n",
       "       [ 0.673288,  0.711139,  0.767792,  0.747633],\n",
       "       [ 0.342803,  0.755828,  0.286764,  0.273488]])\n",
       "Coordinates:\n",
       "  * y        (y) float64 0.3 0.7 1.3 1.5\n",
       "  * x        (x) int64 10 20 30\n",
       "    time     datetime64[ns] 2016-03-05"
      ]
     },
     "execution_count": 20,
     "metadata": {},
     "output_type": "execute_result"
    }
   ],
   "source": [
    "da.sel(time='2016-03-05')"
   ]
  },
  {
   "cell_type": "code",
   "execution_count": 21,
   "metadata": {
    "collapsed": false,
    "deletable": true,
    "editable": true,
    "slideshow": {
     "slide_type": "slide"
    }
   },
   "outputs": [
    {
     "data": {
      "text/plain": [
       "<xarray.DataArray (x: 3, y: 4)>\n",
       "array([[ 0.311481,  0.50576 ,  0.70285 ,  0.366626],\n",
       "       [ 0.692703,  0.292571,  0.30895 ,  0.903716],\n",
       "       [ 0.00336 ,  0.851831,  0.02013 ,  0.938408]])\n",
       "Coordinates:\n",
       "  * y        (y) float64 0.3 0.7 1.3 1.5\n",
       "  * x        (x) int64 10 20 30\n",
       "    time     datetime64[ns] 2016-04-07"
      ]
     },
     "execution_count": 21,
     "metadata": {},
     "output_type": "execute_result"
    }
   ],
   "source": [
    "da.isel(time=1)"
   ]
  },
  {
   "cell_type": "code",
   "execution_count": 22,
   "metadata": {
    "collapsed": false,
    "deletable": true,
    "editable": true,
    "slideshow": {
     "slide_type": "slide"
    }
   },
   "outputs": [
    {
     "data": {
      "text/plain": [
       "<xarray.DataArray (x: 2, y: 4, time: 2)>\n",
       "array([[[ 0.291147,  0.311481],\n",
       "        [ 0.242399,  0.50576 ],\n",
       "        [ 0.0414  ,  0.70285 ],\n",
       "        [ 0.970111,  0.366626]],\n",
       "\n",
       "       [[ 0.673288,  0.692703],\n",
       "        [ 0.711139,  0.292571],\n",
       "        [ 0.767792,  0.30895 ],\n",
       "        [ 0.747633,  0.903716]]])\n",
       "Coordinates:\n",
       "  * y        (y) float64 0.3 0.7 1.3 1.5\n",
       "  * x        (x) int64 10 20\n",
       "  * time     (time) datetime64[ns] 2016-03-05 2016-04-07"
      ]
     },
     "execution_count": 22,
     "metadata": {},
     "output_type": "execute_result"
    }
   ],
   "source": [
    "da.sel(x=slice(0, 20))"
   ]
  },
  {
   "cell_type": "code",
   "execution_count": 23,
   "metadata": {
    "collapsed": false,
    "deletable": true,
    "editable": true,
    "slideshow": {
     "slide_type": "slide"
    }
   },
   "outputs": [
    {
     "data": {
      "text/plain": [
       "<xarray.DataArray (x: 3, y: 4)>\n",
       "array([[ 0.301314,  0.37408 ,  0.372125,  0.668368],\n",
       "       [ 0.682996,  0.501855,  0.538371,  0.825675],\n",
       "       [ 0.173082,  0.803829,  0.153447,  0.605948]])\n",
       "Coordinates:\n",
       "  * y        (y) float64 0.3 0.7 1.3 1.5\n",
       "  * x        (x) int64 10 20 30"
      ]
     },
     "execution_count": 23,
     "metadata": {},
     "output_type": "execute_result"
    }
   ],
   "source": [
    "da.mean(dim='time')"
   ]
  },
  {
   "cell_type": "code",
   "execution_count": 24,
   "metadata": {
    "collapsed": false,
    "deletable": true,
    "editable": true,
    "slideshow": {
     "slide_type": "slide"
    }
   },
   "outputs": [
    {
     "data": {
      "text/plain": [
       "<xarray.DataArray (time: 2)>\n",
       "array([ 0.508649,  0.491532])\n",
       "Coordinates:\n",
       "  * time     (time) datetime64[ns] 2016-03-05 2016-04-07"
      ]
     },
     "execution_count": 24,
     "metadata": {},
     "output_type": "execute_result"
    }
   ],
   "source": [
    "da.mean(dim=['x', 'y'])"
   ]
  },
  {
   "cell_type": "code",
   "execution_count": 25,
   "metadata": {
    "collapsed": false,
    "deletable": true,
    "editable": true,
    "slideshow": {
     "slide_type": "slide"
    }
   },
   "outputs": [
    {
     "data": {
      "text/plain": [
       "<xarray.DataArray u'data' (month: 6, y: 1162, x: 1240)>\n",
       "array([[[        nan,         nan, ...,         nan,         nan],\n",
       "        [        nan,         nan, ...,         nan,         nan],\n",
       "        ..., \n",
       "        [        nan,         nan, ...,         nan,         nan],\n",
       "        [        nan,         nan, ...,         nan,         nan]],\n",
       "\n",
       "       [[        nan,         nan, ...,         nan,         nan],\n",
       "        [   0.      ,         nan, ...,         nan,         nan],\n",
       "        ..., \n",
       "        [        nan,         nan, ...,         nan,         nan],\n",
       "        [        nan,         nan, ...,         nan,         nan]],\n",
       "\n",
       "       ..., \n",
       "       [[  23.976839,    0.      , ...,         nan,         nan],\n",
       "        [   1.      ,    2.5     , ...,         nan,         nan],\n",
       "        ..., \n",
       "        [        nan,         nan, ...,         nan,         nan],\n",
       "        [        nan,         nan, ...,         nan,         nan]],\n",
       "\n",
       "       [[ 146.487762,  125.048988, ...,         nan,         nan],\n",
       "        [ 146.279037,  148.149338, ...,         nan,         nan],\n",
       "        ..., \n",
       "        [        nan,         nan, ...,         nan,         nan],\n",
       "        [        nan,         nan, ...,         nan,         nan]]], dtype=float32)\n",
       "Coordinates:\n",
       "  * y        (y) float64 1.429e+06 1.428e+06 1.427e+06 1.426e+06 1.424e+06 ...\n",
       "  * x        (x) float64 -9.476e+05 -9.464e+05 -9.451e+05 -9.439e+05 ...\n",
       "  * month    (month) int64 1 2 3 4 5 6"
      ]
     },
     "execution_count": 25,
     "metadata": {},
     "output_type": "execute_result"
    }
   ],
   "source": [
    "PM25.sel(time='2014').groupby('time.month').std(dim='time')"
   ]
  },
  {
   "cell_type": "markdown",
   "metadata": {
    "deletable": true,
    "editable": true,
    "slideshow": {
     "slide_type": "slide"
    }
   },
   "source": [
    "## Efficient processing with `dask` and `dask.distributed`"
   ]
  },
  {
   "cell_type": "markdown",
   "metadata": {
    "deletable": true,
    "editable": true,
    "slideshow": {
     "slide_type": "fragment"
    }
   },
   "source": [
    "`dask` creates a *computational graph* of your processing steps, and then executes it *as efficiently as possible*."
   ]
  },
  {
   "cell_type": "markdown",
   "metadata": {
    "deletable": true,
    "editable": true,
    "slideshow": {
     "slide_type": "fragment"
    }
   },
   "source": [
    "This includes *only loading data that is actually needed* and *only processing things once*."
   ]
  },
  {
   "cell_type": "code",
   "execution_count": 26,
   "metadata": {
    "collapsed": false,
    "deletable": true,
    "editable": true,
    "slideshow": {
     "slide_type": "slide"
    }
   },
   "outputs": [],
   "source": [
    "data = xr.open_mfdataset(['DaskTest1.nc', 'DaskTest2.nc'], chunks={'time':10})['data']\n",
    "avg = data.mean(dim='time')"
   ]
  },
  {
   "cell_type": "markdown",
   "metadata": {
    "deletable": true,
    "editable": true,
    "slideshow": {
     "slide_type": "-"
    }
   },
   "source": [
    "[Dask execution graph](ExampleGraph_1.png)"
   ]
  },
  {
   "cell_type": "code",
   "execution_count": 27,
   "metadata": {
    "collapsed": true,
    "deletable": true,
    "editable": true,
    "slideshow": {
     "slide_type": "slide"
    }
   },
   "outputs": [],
   "source": [
    "seasonal = data.groupby('time.season').mean(dim='time')"
   ]
  },
  {
   "cell_type": "markdown",
   "metadata": {
    "deletable": true,
    "editable": true,
    "slideshow": {
     "slide_type": "-"
    }
   },
   "source": [
    "[Dask execution graph](ExampleGraph_2.png)"
   ]
  },
  {
   "cell_type": "markdown",
   "metadata": {
    "deletable": true,
    "editable": true,
    "slideshow": {
     "slide_type": "slide"
    }
   },
   "source": [
    "## `dask.distributed`"
   ]
  },
  {
   "cell_type": "markdown",
   "metadata": {
    "deletable": true,
    "editable": true,
    "slideshow": {
     "slide_type": "fragment"
    }
   },
   "source": [
    "All of these different *chunks*, and separate processing chains can be run on **separate computers**.\n",
    "\n",
    "- [Dask Distributed Example](Dask Distributed Example.ipynb)\n",
    "- [Live Dashboard](http://localhost:8787)"
   ]
  },
  {
   "cell_type": "markdown",
   "metadata": {
    "deletable": true,
    "editable": true,
    "slideshow": {
     "slide_type": "slide"
    }
   },
   "source": [
    "## Getting raster data into `xarray`"
   ]
  },
  {
   "cell_type": "markdown",
   "metadata": {
    "deletable": true,
    "editable": true,
    "slideshow": {
     "slide_type": "fragment"
    }
   },
   "source": [
    "`xarray` can read various raster formats directly:\n",
    "\n",
    "- NetCDF\n",
    "- HDF\n",
    "- GRIB"
   ]
  },
  {
   "cell_type": "markdown",
   "metadata": {
    "deletable": true,
    "editable": true,
    "slideshow": {
     "slide_type": "fragment"
    }
   },
   "source": [
    "However, `xarray` can't _currently_ read other standard raster formats like:\n",
    "\n",
    "- GeoTIFF\n",
    "- Erdas IMAGINE\n",
    "- Arc Grids\n",
    "- ENVI format\n",
    "- etc..."
   ]
  },
  {
   "cell_type": "markdown",
   "metadata": {
    "deletable": true,
    "editable": true,
    "slideshow": {
     "slide_type": "slide"
    }
   },
   "source": [
    "## `rasterio`\n",
    "\n",
    "A nice, Pythonic interface to `GDAL` - making it really easy to read almost any raster file into Python"
   ]
  },
  {
   "cell_type": "code",
   "execution_count": 28,
   "metadata": {
    "collapsed": false,
    "deletable": true,
    "editable": true,
    "slideshow": {
     "slide_type": "fragment"
    }
   },
   "outputs": [
    {
     "name": "stdout",
     "output_type": "stream",
     "text": [
      "[[51 51 51 ..., 32 32 29]\n",
      " [51 51 51 ..., 29 30 27]\n",
      " [54 54 52 ..., 30 29 28]\n",
      " ..., \n",
      " [33 34 34 ..., 31 35 35]\n",
      " [34 34 34 ..., 32 34 34]\n",
      " [34 34 34 ..., 31 33 38]]\n"
     ]
    }
   ],
   "source": [
    "import rasterio\n",
    "\n",
    "with rasterio.open('SPOT_ROI.tif') as src:\n",
    "    data = src.read(1)\n",
    "    \n",
    "print(data)"
   ]
  },
  {
   "cell_type": "markdown",
   "metadata": {
    "deletable": true,
    "editable": true,
    "slideshow": {
     "slide_type": "slide"
    }
   },
   "source": [
    "## Joining them up\n",
    "All we need to do is write some functions to read from `rasterio` and create a `DataArray`"
   ]
  },
  {
   "cell_type": "markdown",
   "metadata": {
    "deletable": true,
    "editable": true,
    "slideshow": {
     "slide_type": "fragment"
    }
   },
   "source": [
    "But it's a bit more difficult than that...\n",
    "\n",
    "- Need to deal with geographic metadata\n",
    "- Geographic co-ordinates\n",
    "- Dimension names"
   ]
  },
  {
   "cell_type": "code",
   "execution_count": 29,
   "metadata": {
    "collapsed": true,
    "deletable": true,
    "editable": true,
    "slideshow": {
     "slide_type": "skip"
    }
   },
   "outputs": [],
   "source": [
    "from rasterio_to_xarray import rasterio_to_xarray, xarray_to_rasterio, xarray_to_rasterio_by_band"
   ]
  },
  {
   "cell_type": "code",
   "execution_count": 30,
   "metadata": {
    "collapsed": false,
    "deletable": true,
    "editable": true,
    "slideshow": {
     "slide_type": "slide"
    }
   },
   "outputs": [
    {
     "name": "stderr",
     "output_type": "stream",
     "text": [
      "rasterio_to_xarray.py:29: FutureWarning: comparison to `None` will result in an elementwise object comparison in the future.\n",
      "  data = np.where(data == src.nodata, np.nan, data)\n"
     ]
    },
    {
     "data": {
      "text/plain": [
       "<xarray.DataArray (y: 1644, x: 1435)>\n",
       "array([[ 51.,  51.,  51., ...,  32.,  32.,  29.],\n",
       "       [ 51.,  51.,  51., ...,  29.,  30.,  27.],\n",
       "       [ 54.,  54.,  52., ...,  30.,  29.,  28.],\n",
       "       ..., \n",
       "       [ 33.,  34.,  34., ...,  31.,  35.,  35.],\n",
       "       [ 34.,  34.,  34., ...,  32.,  34.,  34.],\n",
       "       [ 34.,  34.,  34., ...,  31.,  33.,  38.]])\n",
       "Coordinates:\n",
       "  * y        (y) float64 1.484e+05 1.484e+05 1.484e+05 1.484e+05 1.484e+05 ...\n",
       "  * x        (x) float64 4.301e+05 4.301e+05 4.302e+05 4.302e+05 4.302e+05 ...\n",
       "Attributes:\n",
       "    crs: +ellps=airy +k=0.999601 +lat_0=49 +lon_0=-2 +no_defs +proj=tmerc +towgs84=446.448,-125.157,542.06,0.15,0.247,0.842,-20.489 +units=m +x_0=400000 +y_0=-100000\n",
       "    affine: (430130.2396, 10.0, 0.0, 148415.8755, 0.0, -10.0)"
      ]
     },
     "execution_count": 30,
     "metadata": {},
     "output_type": "execute_result"
    }
   ],
   "source": [
    "data = rasterio_to_xarray('SPOT_ROI.tif')\n",
    "data"
   ]
  },
  {
   "cell_type": "markdown",
   "metadata": {
    "deletable": true,
    "editable": true,
    "slideshow": {
     "slide_type": "slide"
    }
   },
   "source": [
    "## Example - combining multiple files into a time-series"
   ]
  },
  {
   "cell_type": "markdown",
   "metadata": {
    "deletable": true,
    "editable": true,
    "slideshow": {
     "slide_type": "fragment"
    }
   },
   "source": [
    "Take a large number of files, one from each orbit of a satellite, and put them into one large array with a time dimension."
   ]
  },
  {
   "cell_type": "code",
   "execution_count": 31,
   "metadata": {
    "collapsed": true,
    "slideshow": {
     "slide_type": "skip"
    }
   },
   "outputs": [],
   "source": [
    "import os\n",
    "from glob import glob\n"
   ]
  },
  {
   "cell_type": "code",
   "execution_count": 32,
   "metadata": {
    "collapsed": true,
    "deletable": true,
    "editable": true,
    "slideshow": {
     "slide_type": "skip"
    }
   },
   "outputs": [],
   "source": [
    "def maiac_file_to_da(filename):\n",
    "    da = rasterio_to_xarray(filename)\n",
    "    \n",
    "    time_str = os.path.basename(filename)[17:-17]\n",
    "    time_obj = datetime.datetime.strptime(time_str, '%Y%j%H%M')\n",
    "    da.coords['time'] = time_obj\n",
    "    \n",
    "    return da"
   ]
  },
  {
   "cell_type": "code",
   "execution_count": 33,
   "metadata": {
    "collapsed": false,
    "deletable": true,
    "editable": true,
    "slideshow": {
     "slide_type": "skip"
    }
   },
   "outputs": [],
   "source": [
    "files = glob('MAIAC_files/*.tif')"
   ]
  },
  {
   "cell_type": "code",
   "execution_count": 34,
   "metadata": {
    "collapsed": false,
    "deletable": true,
    "editable": true,
    "slideshow": {
     "slide_type": "fragment"
    }
   },
   "outputs": [],
   "source": [
    "list_of_data_arrays = [maiac_file_to_da(filename) for filename in files]"
   ]
  },
  {
   "cell_type": "code",
   "execution_count": 35,
   "metadata": {
    "collapsed": false,
    "deletable": true,
    "editable": true,
    "slideshow": {
     "slide_type": "fragment"
    }
   },
   "outputs": [],
   "source": [
    "combined = xr.concat(list_of_data_arrays, dim='time')"
   ]
  },
  {
   "cell_type": "code",
   "execution_count": 36,
   "metadata": {
    "collapsed": false,
    "deletable": true,
    "editable": true,
    "slideshow": {
     "slide_type": "slide"
    }
   },
   "outputs": [
    {
     "data": {
      "text/plain": [
       "<xarray.DataArray (time: 10, y: 1162, x: 1240)>\n",
       "array([[[ nan,  nan, ...,  nan,  nan],\n",
       "        [ nan,  nan, ...,  nan,  nan],\n",
       "        ..., \n",
       "        [ nan,  nan, ...,  nan,  nan],\n",
       "        [ nan,  nan, ...,  nan,  nan]],\n",
       "\n",
       "       [[ nan,  nan, ...,  nan,  nan],\n",
       "        [ nan,  nan, ...,  nan,  nan],\n",
       "        ..., \n",
       "        [ nan,  nan, ...,  nan,  nan],\n",
       "        [ nan,  nan, ...,  nan,  nan]],\n",
       "\n",
       "       ..., \n",
       "       [[ nan,  nan, ...,  nan,  nan],\n",
       "        [ nan,  nan, ...,  nan,  nan],\n",
       "        ..., \n",
       "        [ nan,  nan, ...,  nan,  nan],\n",
       "        [ nan,  nan, ...,  nan,  nan]],\n",
       "\n",
       "       [[ nan,  nan, ...,  nan,  nan],\n",
       "        [ nan,  nan, ...,  nan,  nan],\n",
       "        ..., \n",
       "        [ nan,  nan, ...,  nan,  nan],\n",
       "        [ nan,  nan, ...,  nan,  nan]]], dtype=float32)\n",
       "Coordinates:\n",
       "  * y        (y) float64 1.429e+06 1.428e+06 1.427e+06 1.426e+06 1.424e+06 ...\n",
       "  * x        (x) float64 -9.476e+05 -9.464e+05 -9.451e+05 -9.439e+05 ...\n",
       "  * time     (time) datetime64[ns] 2003-04-16T14:40:00 2002-03-19T11:20:00 ...\n",
       "Attributes:\n",
       "    crs: +init=epsg:27700\n",
       "    affine: (-947639.6305106485, 1256.543044095589, 0.0, 1429277.8120091753, 0.0, -1256.543044095589)"
      ]
     },
     "execution_count": 36,
     "metadata": {},
     "output_type": "execute_result"
    }
   ],
   "source": [
    "combined"
   ]
  },
  {
   "cell_type": "markdown",
   "metadata": {
    "deletable": true,
    "editable": true,
    "slideshow": {
     "slide_type": "slide"
    }
   },
   "source": [
    "## Getting raster data out of xarray"
   ]
  },
  {
   "cell_type": "code",
   "execution_count": 37,
   "metadata": {
    "collapsed": true,
    "deletable": true,
    "editable": true,
    "slideshow": {
     "slide_type": "fragment"
    }
   },
   "outputs": [],
   "source": [
    "mean = combined.mean(dim='time', keep_attrs=True)"
   ]
  },
  {
   "cell_type": "code",
   "execution_count": 38,
   "metadata": {
    "collapsed": false,
    "deletable": true,
    "editable": true,
    "slideshow": {
     "slide_type": "fragment"
    }
   },
   "outputs": [],
   "source": [
    "xarray_to_rasterio(mean, 'Mean.tif')"
   ]
  },
  {
   "cell_type": "code",
   "execution_count": 39,
   "metadata": {
    "collapsed": true,
    "deletable": true,
    "editable": true,
    "slideshow": {
     "slide_type": "slide"
    }
   },
   "outputs": [],
   "source": [
    "daily = combined.groupby('time.day').mean(dim='time', keep_attrs=True)"
   ]
  },
  {
   "cell_type": "code",
   "execution_count": 40,
   "metadata": {
    "collapsed": false,
    "deletable": true,
    "editable": true,
    "slideshow": {
     "slide_type": "fragment"
    }
   },
   "outputs": [
    {
     "name": "stdout",
     "output_type": "stream",
     "text": [
      "Exported 16\n",
      "Exported 19\n",
      "Exported 28\n",
      "Exported 29\n"
     ]
    }
   ],
   "source": [
    "xarray_to_rasterio_by_band(daily, 'Daily_', dim='day')"
   ]
  },
  {
   "cell_type": "code",
   "execution_count": 41,
   "metadata": {
    "collapsed": false,
    "deletable": true,
    "editable": true,
    "slideshow": {
     "slide_type": "fragment"
    }
   },
   "outputs": [
    {
     "name": "stdout",
     "output_type": "stream",
     "text": [
      "Daily_16.tif Daily_19.tif Daily_28.tif Daily_29.tif\r\n"
     ]
    }
   ],
   "source": [
    "!ls Daily_*.tif"
   ]
  },
  {
   "cell_type": "markdown",
   "metadata": {
    "deletable": true,
    "editable": true,
    "slideshow": {
     "slide_type": "slide"
    }
   },
   "source": [
    "## Geographic processing"
   ]
  },
  {
   "cell_type": "markdown",
   "metadata": {
    "collapsed": true,
    "deletable": true,
    "editable": true
   },
   "source": [
    "Can `xarray` do standard _geographic_ processing methods?\n",
    "\n",
    "- Zonal statistics\n",
    "- Reprojecting\n",
    "- etc..."
   ]
  },
  {
   "cell_type": "markdown",
   "metadata": {
    "deletable": true,
    "editable": true,
    "slideshow": {
     "slide_type": "fragment"
    }
   },
   "source": [
    "- A `DataArray` is just a fancy `numpy` array"
   ]
  },
  {
   "cell_type": "markdown",
   "metadata": {
    "deletable": true,
    "editable": true,
    "slideshow": {
     "slide_type": "fragment"
    }
   },
   "source": [
    "- Many things will work directly, otherwise just use `.values` to get the `numpy` array"
   ]
  },
  {
   "cell_type": "markdown",
   "metadata": {
    "deletable": true,
    "editable": true,
    "slideshow": {
     "slide_type": "slide"
    }
   },
   "source": [
    "## Zonal statistics"
   ]
  },
  {
   "cell_type": "markdown",
   "metadata": {
    "deletable": true,
    "editable": true,
    "slideshow": {
     "slide_type": "fragment"
    }
   },
   "source": [
    "`rasterstats` is a Python module for doing zonal statistics"
   ]
  },
  {
   "cell_type": "markdown",
   "metadata": {
    "deletable": true,
    "editable": true,
    "slideshow": {
     "slide_type": "fragment"
    }
   },
   "source": [
    "We can use the same approach as the Python module, but modified to work with `DataArray` objects"
   ]
  },
  {
   "cell_type": "markdown",
   "metadata": {
    "deletable": true,
    "editable": true,
    "slideshow": {
     "slide_type": "slide"
    }
   },
   "source": [
    "## Zonal statistics"
   ]
  },
  {
   "cell_type": "markdown",
   "metadata": {
    "deletable": true,
    "editable": true,
    "slideshow": {
     "slide_type": "fragment"
    }
   },
   "source": [
    "1. Load shapefile\n",
    "2. For each feature in the shapefile:\n",
    "    - Rasterize the feature into an array\n",
    "    - Use this array to index the DataArray\n",
    "    - Do whatever processing you want (`mean`, `median`, `std` etc)"
   ]
  },
  {
   "cell_type": "markdown",
   "metadata": {
    "deletable": true,
    "editable": true,
    "slideshow": {
     "slide_type": "fragment"
    }
   },
   "source": [
    "(There are more efficient ways to do this if no polygons overlap)"
   ]
  },
  {
   "cell_type": "markdown",
   "metadata": {
    "deletable": true,
    "editable": true,
    "slideshow": {
     "slide_type": "slide"
    }
   },
   "source": [
    "## And more..."
   ]
  },
  {
   "cell_type": "markdown",
   "metadata": {
    "deletable": true,
    "editable": true,
    "slideshow": {
     "slide_type": "fragment"
    }
   },
   "source": [
    "- Apply functions across axes (eg. linear regression over time, separately for each pixel)"
   ]
  },
  {
   "cell_type": "markdown",
   "metadata": {
    "deletable": true,
    "editable": true,
    "slideshow": {
     "slide_type": "fragment"
    }
   },
   "source": [
    "- Rolling windows over any axis"
   ]
  },
  {
   "cell_type": "markdown",
   "metadata": {
    "deletable": true,
    "editable": true,
    "slideshow": {
     "slide_type": "fragment"
    }
   },
   "source": [
    "- Automatic broadcasting and alignment"
   ]
  },
  {
   "cell_type": "markdown",
   "metadata": {
    "deletable": true,
    "editable": true,
    "slideshow": {
     "slide_type": "fragment"
    }
   },
   "source": [
    "- Hierarchical indexes"
   ]
  },
  {
   "cell_type": "markdown",
   "metadata": {
    "deletable": true,
    "editable": true,
    "slideshow": {
     "slide_type": "fragment"
    }
   },
   "source": [
    "- OPeNDAP"
   ]
  },
  {
   "cell_type": "markdown",
   "metadata": {
    "deletable": true,
    "editable": true,
    "slideshow": {
     "slide_type": "slide"
    }
   },
   "source": [
    "## Where next...?"
   ]
  },
  {
   "cell_type": "markdown",
   "metadata": {
    "deletable": true,
    "editable": true,
    "slideshow": {
     "slide_type": "fragment"
    }
   },
   "source": [
    "- `xarray` is under rapid development\n",
    "- General approach is stable, some details may change\n",
    "- Very responsive developers"
   ]
  },
  {
   "cell_type": "markdown",
   "metadata": {
    "deletable": true,
    "editable": true,
    "slideshow": {
     "slide_type": "fragment"
    }
   },
   "source": [
    "- Raster I/O will be built-in to `xarray` soon-ish"
   ]
  },
  {
   "cell_type": "markdown",
   "metadata": {
    "deletable": true,
    "editable": true,
    "slideshow": {
     "slide_type": "fragment"
    }
   },
   "source": [
    "- `dask` is rapidly improving too"
   ]
  },
  {
   "cell_type": "markdown",
   "metadata": {
    "deletable": true,
    "editable": true,
    "slideshow": {
     "slide_type": "slide"
    }
   },
   "source": [
    "## Resources\n",
    "\n",
    "- These slides and notebooks are available online at https://github.com/robintw/RastersRevealedTalk"
   ]
  }
 ],
 "metadata": {
  "celltoolbar": "Slideshow",
  "kernelspec": {
   "display_name": "Python 2",
   "language": "python",
   "name": "python2"
  },
  "language_info": {
   "codemirror_mode": {
    "name": "ipython",
    "version": 2
   },
   "file_extension": ".py",
   "mimetype": "text/x-python",
   "name": "python",
   "nbconvert_exporter": "python",
   "pygments_lexer": "ipython2",
   "version": "2.7.12"
  },
  "nbpresent": {
   "slides": {
    "0d91b7b0-2ee9-4c12-8244-7645a5e686cf": {
     "id": "0d91b7b0-2ee9-4c12-8244-7645a5e686cf",
     "prev": "a757d96d-c8de-4bcf-88f7-2cce9d500f26",
     "regions": {
      "4c280086-914c-4af6-85cb-6396e12a8083": {
       "attrs": {
        "height": 0.8,
        "width": 0.8,
        "x": 0.1,
        "y": 0.1
       },
       "content": {
        "cell": "2d06e264-15dd-48ef-8044-818228252d6f",
        "part": "whole"
       },
       "id": "4c280086-914c-4af6-85cb-6396e12a8083"
      },
      "c1449422-39c1-4b7a-8d1c-c8ab2048d0fa": {
       "attrs": {
        "height": 0.4,
        "width": 0.8,
        "x": 0.1,
        "y": 0.5
       },
       "content": {
        "cell": "2abde255-e727-4c4f-8c7c-8a729fb11e54",
        "part": "whole"
       },
       "id": "c1449422-39c1-4b7a-8d1c-c8ab2048d0fa"
      }
     }
    },
    "4168ec56-e698-4122-bd97-e6abea9e26bf": {
     "id": "4168ec56-e698-4122-bd97-e6abea9e26bf",
     "prev": "0d91b7b0-2ee9-4c12-8244-7645a5e686cf",
     "regions": {
      "314c41c9-c617-4f73-a858-ca00544d247a": {
       "attrs": {
        "height": 0.8,
        "width": 0.8,
        "x": 0.1,
        "y": 0.1
       },
       "content": {
        "cell": "100b0dfe-1e8b-4ba5-8b94-9a1c9bb9130c",
        "part": "whole"
       },
       "id": "314c41c9-c617-4f73-a858-ca00544d247a"
      },
      "d1a5ec81-7d36-4f84-9411-d608af0eaf27": {
       "attrs": {
        "height": 0.4,
        "width": 0.8,
        "x": 0.1,
        "y": 0.5
       },
       "content": {
        "cell": "8ecd6e8f-386e-4c5d-b795-d5e3df82c512",
        "part": "whole"
       },
       "id": "d1a5ec81-7d36-4f84-9411-d608af0eaf27"
      },
      "e65e7771-eaac-4e15-a990-c9570ebfa2d8": {
       "attrs": {
        "height": 0.4,
        "width": 0.8,
        "x": 0.1,
        "y": 0.5
       },
       "content": {
        "cell": "208ed687-b160-4b9b-969d-3c67db603e47",
        "part": "whole"
       },
       "id": "e65e7771-eaac-4e15-a990-c9570ebfa2d8"
      }
     }
    },
    "a757d96d-c8de-4bcf-88f7-2cce9d500f26": {
     "id": "a757d96d-c8de-4bcf-88f7-2cce9d500f26",
     "prev": null,
     "regions": {
      "cc85213a-52e4-4dc1-b8d4-fe72ea6db2da": {
       "attrs": {
        "height": 0.8,
        "width": 0.8,
        "x": 0.1,
        "y": 0.1
       },
       "content": {
        "cell": "082be62c-69e8-426e-b147-00c7b3a651db",
        "part": "whole"
       },
       "id": "cc85213a-52e4-4dc1-b8d4-fe72ea6db2da"
      },
      "f028e82c-8749-458a-9228-8490762d578a": {
       "attrs": {
        "height": 0.4,
        "width": 0.8,
        "x": 0.1,
        "y": 0.5
       },
       "content": {
        "cell": "b6d7213a-e618-4e90-a486-6bab4fe1bfc5",
        "part": "whole"
       },
       "id": "f028e82c-8749-458a-9228-8490762d578a"
      }
     }
    }
   },
   "themes": {}
  }
 },
 "nbformat": 4,
 "nbformat_minor": 0
}
